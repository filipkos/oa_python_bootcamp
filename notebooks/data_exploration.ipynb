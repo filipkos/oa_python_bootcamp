{
 "cells": [
  {
   "cell_type": "markdown",
   "id": "e30cf4fd",
   "metadata": {},
   "source": [
    "# Data Exploration"
   ]
  },
  {
   "cell_type": "markdown",
   "id": "ca908751",
   "metadata": {},
   "source": [
    "1. **Numpy**\n",
    " - https://numpy.org/doc/stable/\n",
    " - Module for math. Numerical calculations on arrays of numbers. Very important.\n",
    "2. **Pandas**\n",
    " - https://pandas.pydata.org/\n",
    " - data/spreadsheet manipulation module\n",
    "3. **Matplotlib**\n",
    " - https://matplotlib.org\n",
    " - Module for plotting and data visualization. Especially check out the pyplot submodule. Checkout the [examples](https://matplotlib.org/stable/plot_types/index.html) for inspiration.\n",
    "4. **Seaborn**\n",
    " - https://seaborn.pydata.org/\n",
    " - Built on matplotlib, produces streamlined plots from typical datasets. Check out the [gallery](https://seaborn.pydata.org/examples/index.html) for inspiration."
   ]
  },
  {
   "cell_type": "code",
   "execution_count": 1,
   "id": "d912bf77",
   "metadata": {},
   "outputs": [],
   "source": [
    "import numpy as np\n",
    "import pandas as pd\n",
    "from matplotlib import pyplot as plt\n",
    "# import seaborn as sns"
   ]
  },
  {
   "cell_type": "markdown",
   "id": "175401a7",
   "metadata": {},
   "source": [
    "## Model predictions"
   ]
  },
  {
   "cell_type": "markdown",
   "id": "785e31c5",
   "metadata": {},
   "source": [
    "In cell_counts.json you will find model predictions for counts of different cell types. There are predictions from different models on different datasets consisting of a number of patients. Look at the column names of the spreadsheet -- they should be self-explanatory. Each row is a different sample (ie different image indexed by image_id) that came from a patient labeled with patient_id."
   ]
  },
  {
   "cell_type": "code",
   "execution_count": 2,
   "id": "dbd74916",
   "metadata": {},
   "outputs": [
    {
     "data": {
      "text/html": [
       "<div>\n",
       "<style scoped>\n",
       "    .dataframe tbody tr th:only-of-type {\n",
       "        vertical-align: middle;\n",
       "    }\n",
       "\n",
       "    .dataframe tbody tr th {\n",
       "        vertical-align: top;\n",
       "    }\n",
       "\n",
       "    .dataframe thead th {\n",
       "        text-align: right;\n",
       "    }\n",
       "</style>\n",
       "<table border=\"1\" class=\"dataframe\">\n",
       "  <thead>\n",
       "    <tr style=\"text-align: right;\">\n",
       "      <th></th>\n",
       "      <th>image_id</th>\n",
       "      <th>patient_id</th>\n",
       "      <th>macrophage_count</th>\n",
       "      <th>neutrophil_count</th>\n",
       "      <th>fibroblast_count</th>\n",
       "      <th>lymphocyte_count</th>\n",
       "      <th>plasma_count</th>\n",
       "      <th>endothelial_count</th>\n",
       "      <th>cancer_count</th>\n",
       "      <th>other_count</th>\n",
       "      <th>hospital</th>\n",
       "      <th>dataset</th>\n",
       "      <th>model</th>\n",
       "      <th>url</th>\n",
       "    </tr>\n",
       "  </thead>\n",
       "  <tbody>\n",
       "    <tr>\n",
       "      <th>0</th>\n",
       "      <td>354025</td>\n",
       "      <td>pat_3219915</td>\n",
       "      <td>2817</td>\n",
       "      <td>1889</td>\n",
       "      <td>34457</td>\n",
       "      <td>143166</td>\n",
       "      <td>4994</td>\n",
       "      <td>573</td>\n",
       "      <td>1422</td>\n",
       "      <td>1951</td>\n",
       "      <td>hospital_C</td>\n",
       "      <td>test_A</td>\n",
       "      <td>model_A</td>\n",
       "      <td>https://www.google.com/search?q=dirbcw</td>\n",
       "    </tr>\n",
       "    <tr>\n",
       "      <th>1</th>\n",
       "      <td>872805</td>\n",
       "      <td>pat_2174791</td>\n",
       "      <td>2648</td>\n",
       "      <td>419</td>\n",
       "      <td>23426</td>\n",
       "      <td>199810</td>\n",
       "      <td>431</td>\n",
       "      <td>4839</td>\n",
       "      <td>3280</td>\n",
       "      <td>4840</td>\n",
       "      <td>hospital_A</td>\n",
       "      <td>test_B</td>\n",
       "      <td>model_A</td>\n",
       "      <td>https://www.google.com/search?q=qftpup</td>\n",
       "    </tr>\n",
       "    <tr>\n",
       "      <th>2</th>\n",
       "      <td>652988</td>\n",
       "      <td>pat_6639750</td>\n",
       "      <td>3805</td>\n",
       "      <td>2730</td>\n",
       "      <td>89967</td>\n",
       "      <td>97783</td>\n",
       "      <td>2834</td>\n",
       "      <td>36472</td>\n",
       "      <td>40038</td>\n",
       "      <td>40170</td>\n",
       "      <td>hospital_A</td>\n",
       "      <td>test_B</td>\n",
       "      <td>model_A</td>\n",
       "      <td>https://www.google.com/search?q=dmakax</td>\n",
       "    </tr>\n",
       "    <tr>\n",
       "      <th>3</th>\n",
       "      <td>173390</td>\n",
       "      <td>pat_7825178</td>\n",
       "      <td>5583</td>\n",
       "      <td>3051</td>\n",
       "      <td>50928</td>\n",
       "      <td>166222</td>\n",
       "      <td>40</td>\n",
       "      <td>248</td>\n",
       "      <td>2305</td>\n",
       "      <td>356</td>\n",
       "      <td>hospital_C</td>\n",
       "      <td>test_B</td>\n",
       "      <td>model_A</td>\n",
       "      <td>https://www.google.com/search?q=jovxpb</td>\n",
       "    </tr>\n",
       "    <tr>\n",
       "      <th>4</th>\n",
       "      <td>967278</td>\n",
       "      <td>pat_2541130</td>\n",
       "      <td>170</td>\n",
       "      <td>2349</td>\n",
       "      <td>9505</td>\n",
       "      <td>61313</td>\n",
       "      <td>1302</td>\n",
       "      <td>6798</td>\n",
       "      <td>3674</td>\n",
       "      <td>2426</td>\n",
       "      <td>hospital_A</td>\n",
       "      <td>test_A</td>\n",
       "      <td>model_A</td>\n",
       "      <td>https://www.google.com/search?q=djllkz</td>\n",
       "    </tr>\n",
       "  </tbody>\n",
       "</table>\n",
       "</div>"
      ],
      "text/plain": [
       "   image_id   patient_id  macrophage_count  neutrophil_count  \\\n",
       "0    354025  pat_3219915              2817              1889   \n",
       "1    872805  pat_2174791              2648               419   \n",
       "2    652988  pat_6639750              3805              2730   \n",
       "3    173390  pat_7825178              5583              3051   \n",
       "4    967278  pat_2541130               170              2349   \n",
       "\n",
       "   fibroblast_count  lymphocyte_count  plasma_count  endothelial_count  \\\n",
       "0             34457            143166          4994                573   \n",
       "1             23426            199810           431               4839   \n",
       "2             89967             97783          2834              36472   \n",
       "3             50928            166222            40                248   \n",
       "4              9505             61313          1302               6798   \n",
       "\n",
       "   cancer_count  other_count    hospital dataset    model  \\\n",
       "0          1422         1951  hospital_C  test_A  model_A   \n",
       "1          3280         4840  hospital_A  test_B  model_A   \n",
       "2         40038        40170  hospital_A  test_B  model_A   \n",
       "3          2305          356  hospital_C  test_B  model_A   \n",
       "4          3674         2426  hospital_A  test_A  model_A   \n",
       "\n",
       "                                      url  \n",
       "0  https://www.google.com/search?q=dirbcw  \n",
       "1  https://www.google.com/search?q=qftpup  \n",
       "2  https://www.google.com/search?q=dmakax  \n",
       "3  https://www.google.com/search?q=jovxpb  \n",
       "4  https://www.google.com/search?q=djllkz  "
      ]
     },
     "execution_count": 2,
     "metadata": {},
     "output_type": "execute_result"
    }
   ],
   "source": [
    "# loading data\n",
    "cell_counts_df = pd.read_json(\"data/cell_counts.json\")\n",
    "cell_counts_df.head()"
   ]
  },
  {
   "cell_type": "code",
   "execution_count": 3,
   "id": "f0a221e1",
   "metadata": {},
   "outputs": [
    {
     "data": {
      "text/html": [
       "<div>\n",
       "<style scoped>\n",
       "    .dataframe tbody tr th:only-of-type {\n",
       "        vertical-align: middle;\n",
       "    }\n",
       "\n",
       "    .dataframe tbody tr th {\n",
       "        vertical-align: top;\n",
       "    }\n",
       "\n",
       "    .dataframe thead th {\n",
       "        text-align: right;\n",
       "    }\n",
       "</style>\n",
       "<table border=\"1\" class=\"dataframe\">\n",
       "  <thead>\n",
       "    <tr style=\"text-align: right;\">\n",
       "      <th></th>\n",
       "      <th>image_id</th>\n",
       "      <th>patient_id</th>\n",
       "      <th>macrophage_count</th>\n",
       "      <th>neutrophil_count</th>\n",
       "      <th>fibroblast_count</th>\n",
       "      <th>lymphocyte_count</th>\n",
       "      <th>plasma_count</th>\n",
       "      <th>endothelial_count</th>\n",
       "      <th>cancer_count</th>\n",
       "      <th>other_count</th>\n",
       "      <th>hospital</th>\n",
       "      <th>dataset</th>\n",
       "      <th>model</th>\n",
       "      <th>url</th>\n",
       "    </tr>\n",
       "  </thead>\n",
       "  <tbody>\n",
       "    <tr>\n",
       "      <th>0</th>\n",
       "      <td>354025</td>\n",
       "      <td>pat_3219915</td>\n",
       "      <td>2817</td>\n",
       "      <td>1889</td>\n",
       "      <td>34457</td>\n",
       "      <td>143166</td>\n",
       "      <td>4994</td>\n",
       "      <td>573</td>\n",
       "      <td>1422</td>\n",
       "      <td>1951</td>\n",
       "      <td>hospital_C</td>\n",
       "      <td>test_A</td>\n",
       "      <td>model_A</td>\n",
       "      <td>https://www.google.com/search?q=dirbcw</td>\n",
       "    </tr>\n",
       "    <tr>\n",
       "      <th>1</th>\n",
       "      <td>872805</td>\n",
       "      <td>pat_2174791</td>\n",
       "      <td>2648</td>\n",
       "      <td>419</td>\n",
       "      <td>23426</td>\n",
       "      <td>199810</td>\n",
       "      <td>431</td>\n",
       "      <td>4839</td>\n",
       "      <td>3280</td>\n",
       "      <td>4840</td>\n",
       "      <td>hospital_A</td>\n",
       "      <td>test_B</td>\n",
       "      <td>model_A</td>\n",
       "      <td>https://www.google.com/search?q=qftpup</td>\n",
       "    </tr>\n",
       "    <tr>\n",
       "      <th>2</th>\n",
       "      <td>652988</td>\n",
       "      <td>pat_6639750</td>\n",
       "      <td>3805</td>\n",
       "      <td>2730</td>\n",
       "      <td>89967</td>\n",
       "      <td>97783</td>\n",
       "      <td>2834</td>\n",
       "      <td>36472</td>\n",
       "      <td>40038</td>\n",
       "      <td>40170</td>\n",
       "      <td>hospital_A</td>\n",
       "      <td>test_B</td>\n",
       "      <td>model_A</td>\n",
       "      <td>https://www.google.com/search?q=dmakax</td>\n",
       "    </tr>\n",
       "    <tr>\n",
       "      <th>3</th>\n",
       "      <td>173390</td>\n",
       "      <td>pat_7825178</td>\n",
       "      <td>5583</td>\n",
       "      <td>3051</td>\n",
       "      <td>50928</td>\n",
       "      <td>166222</td>\n",
       "      <td>40</td>\n",
       "      <td>248</td>\n",
       "      <td>2305</td>\n",
       "      <td>356</td>\n",
       "      <td>hospital_C</td>\n",
       "      <td>test_B</td>\n",
       "      <td>model_A</td>\n",
       "      <td>https://www.google.com/search?q=jovxpb</td>\n",
       "    </tr>\n",
       "    <tr>\n",
       "      <th>4</th>\n",
       "      <td>967278</td>\n",
       "      <td>pat_2541130</td>\n",
       "      <td>170</td>\n",
       "      <td>2349</td>\n",
       "      <td>9505</td>\n",
       "      <td>61313</td>\n",
       "      <td>1302</td>\n",
       "      <td>6798</td>\n",
       "      <td>3674</td>\n",
       "      <td>2426</td>\n",
       "      <td>hospital_A</td>\n",
       "      <td>test_A</td>\n",
       "      <td>model_A</td>\n",
       "      <td>https://www.google.com/search?q=djllkz</td>\n",
       "    </tr>\n",
       "    <tr>\n",
       "      <th>...</th>\n",
       "      <td>...</td>\n",
       "      <td>...</td>\n",
       "      <td>...</td>\n",
       "      <td>...</td>\n",
       "      <td>...</td>\n",
       "      <td>...</td>\n",
       "      <td>...</td>\n",
       "      <td>...</td>\n",
       "      <td>...</td>\n",
       "      <td>...</td>\n",
       "      <td>...</td>\n",
       "      <td>...</td>\n",
       "      <td>...</td>\n",
       "      <td>...</td>\n",
       "    </tr>\n",
       "    <tr>\n",
       "      <th>895</th>\n",
       "      <td>982379</td>\n",
       "      <td>pat_9273810</td>\n",
       "      <td>3215</td>\n",
       "      <td>169</td>\n",
       "      <td>5692</td>\n",
       "      <td>20672</td>\n",
       "      <td>46</td>\n",
       "      <td>9071</td>\n",
       "      <td>15763</td>\n",
       "      <td>12582</td>\n",
       "      <td>hospital_C</td>\n",
       "      <td>test_A</td>\n",
       "      <td>model_C</td>\n",
       "      <td>https://www.google.com/search?q=dcexzc</td>\n",
       "    </tr>\n",
       "    <tr>\n",
       "      <th>896</th>\n",
       "      <td>357918</td>\n",
       "      <td>pat_2456196</td>\n",
       "      <td>678</td>\n",
       "      <td>116</td>\n",
       "      <td>43127</td>\n",
       "      <td>15843</td>\n",
       "      <td>230</td>\n",
       "      <td>34650</td>\n",
       "      <td>30591</td>\n",
       "      <td>43246</td>\n",
       "      <td>hospital_B</td>\n",
       "      <td>test_A</td>\n",
       "      <td>model_C</td>\n",
       "      <td>https://www.google.com/search?q=mjusay</td>\n",
       "    </tr>\n",
       "    <tr>\n",
       "      <th>897</th>\n",
       "      <td>1578</td>\n",
       "      <td>pat_5282458</td>\n",
       "      <td>745</td>\n",
       "      <td>113</td>\n",
       "      <td>5928</td>\n",
       "      <td>43687</td>\n",
       "      <td>130</td>\n",
       "      <td>7499</td>\n",
       "      <td>6031</td>\n",
       "      <td>5325</td>\n",
       "      <td>hospital_C</td>\n",
       "      <td>test_B</td>\n",
       "      <td>model_C</td>\n",
       "      <td>https://www.google.com/search?q=aanqxi</td>\n",
       "    </tr>\n",
       "    <tr>\n",
       "      <th>898</th>\n",
       "      <td>204153</td>\n",
       "      <td>pat_2040600</td>\n",
       "      <td>3504</td>\n",
       "      <td>1569</td>\n",
       "      <td>28124</td>\n",
       "      <td>124721</td>\n",
       "      <td>379</td>\n",
       "      <td>3068</td>\n",
       "      <td>1638</td>\n",
       "      <td>2612</td>\n",
       "      <td>hospital_A</td>\n",
       "      <td>test_A</td>\n",
       "      <td>model_C</td>\n",
       "      <td>https://www.google.com/search?q=zsxiev</td>\n",
       "    </tr>\n",
       "    <tr>\n",
       "      <th>899</th>\n",
       "      <td>435719</td>\n",
       "      <td>pat_4128004</td>\n",
       "      <td>1092</td>\n",
       "      <td>82</td>\n",
       "      <td>3116</td>\n",
       "      <td>26574</td>\n",
       "      <td>64</td>\n",
       "      <td>3700</td>\n",
       "      <td>4259</td>\n",
       "      <td>5163</td>\n",
       "      <td>hospital_C</td>\n",
       "      <td>test_B</td>\n",
       "      <td>model_C</td>\n",
       "      <td>https://www.google.com/search?q=psqkvk</td>\n",
       "    </tr>\n",
       "  </tbody>\n",
       "</table>\n",
       "<p>900 rows × 14 columns</p>\n",
       "</div>"
      ],
      "text/plain": [
       "     image_id   patient_id  macrophage_count  neutrophil_count  \\\n",
       "0      354025  pat_3219915              2817              1889   \n",
       "1      872805  pat_2174791              2648               419   \n",
       "2      652988  pat_6639750              3805              2730   \n",
       "3      173390  pat_7825178              5583              3051   \n",
       "4      967278  pat_2541130               170              2349   \n",
       "..        ...          ...               ...               ...   \n",
       "895    982379  pat_9273810              3215               169   \n",
       "896    357918  pat_2456196               678               116   \n",
       "897      1578  pat_5282458               745               113   \n",
       "898    204153  pat_2040600              3504              1569   \n",
       "899    435719  pat_4128004              1092                82   \n",
       "\n",
       "     fibroblast_count  lymphocyte_count  plasma_count  endothelial_count  \\\n",
       "0               34457            143166          4994                573   \n",
       "1               23426            199810           431               4839   \n",
       "2               89967             97783          2834              36472   \n",
       "3               50928            166222            40                248   \n",
       "4                9505             61313          1302               6798   \n",
       "..                ...               ...           ...                ...   \n",
       "895              5692             20672            46               9071   \n",
       "896             43127             15843           230              34650   \n",
       "897              5928             43687           130               7499   \n",
       "898             28124            124721           379               3068   \n",
       "899              3116             26574            64               3700   \n",
       "\n",
       "     cancer_count  other_count    hospital dataset    model  \\\n",
       "0            1422         1951  hospital_C  test_A  model_A   \n",
       "1            3280         4840  hospital_A  test_B  model_A   \n",
       "2           40038        40170  hospital_A  test_B  model_A   \n",
       "3            2305          356  hospital_C  test_B  model_A   \n",
       "4            3674         2426  hospital_A  test_A  model_A   \n",
       "..            ...          ...         ...     ...      ...   \n",
       "895         15763        12582  hospital_C  test_A  model_C   \n",
       "896         30591        43246  hospital_B  test_A  model_C   \n",
       "897          6031         5325  hospital_C  test_B  model_C   \n",
       "898          1638         2612  hospital_A  test_A  model_C   \n",
       "899          4259         5163  hospital_C  test_B  model_C   \n",
       "\n",
       "                                        url  \n",
       "0    https://www.google.com/search?q=dirbcw  \n",
       "1    https://www.google.com/search?q=qftpup  \n",
       "2    https://www.google.com/search?q=dmakax  \n",
       "3    https://www.google.com/search?q=jovxpb  \n",
       "4    https://www.google.com/search?q=djllkz  \n",
       "..                                      ...  \n",
       "895  https://www.google.com/search?q=dcexzc  \n",
       "896  https://www.google.com/search?q=mjusay  \n",
       "897  https://www.google.com/search?q=aanqxi  \n",
       "898  https://www.google.com/search?q=zsxiev  \n",
       "899  https://www.google.com/search?q=psqkvk  \n",
       "\n",
       "[900 rows x 14 columns]"
      ]
     },
     "execution_count": 3,
     "metadata": {},
     "output_type": "execute_result"
    }
   ],
   "source": [
    "cell_counts_df"
   ]
  },
  {
   "cell_type": "code",
   "execution_count": 4,
   "id": "8b1b7a76",
   "metadata": {},
   "outputs": [
    {
     "data": {
      "text/plain": [
       "<matplotlib.collections.PathCollection at 0x7fcdd6fa7220>"
      ]
     },
     "execution_count": 4,
     "metadata": {},
     "output_type": "execute_result"
    },
    {
     "data": {
      "image/png": "[encoded data removed]",
      "text/plain": [
       "<Figure size 640x480 with 1 Axes>"
      ]
     },
     "metadata": {},
     "output_type": "display_data"
    }
   ],
   "source": [
    "# simples scatter plot\n",
    "x = cell_counts_df[\"macrophage_count\"]\n",
    "y = cell_counts_df[\"neutrophil_count\"]\n",
    "plt.scatter(x, y, c='green')"
   ]
  },
  {
   "cell_type": "markdown",
   "id": "8d20cd60",
   "metadata": {},
   "source": [
    "Let's focus first on _model_ 'model_A' and _dataset_ 'test_A' and filter only those samples from the spreadsheet:"
   ]
  },
  {
   "cell_type": "code",
   "execution_count": 5,
   "id": "8187fd7e",
   "metadata": {},
   "outputs": [
    {
     "data": {
      "text/html": [
       "<div>\n",
       "<style scoped>\n",
       "    .dataframe tbody tr th:only-of-type {\n",
       "        vertical-align: middle;\n",
       "    }\n",
       "\n",
       "    .dataframe tbody tr th {\n",
       "        vertical-align: top;\n",
       "    }\n",
       "\n",
       "    .dataframe thead th {\n",
       "        text-align: right;\n",
       "    }\n",
       "</style>\n",
       "<table border=\"1\" class=\"dataframe\">\n",
       "  <thead>\n",
       "    <tr style=\"text-align: right;\">\n",
       "      <th></th>\n",
       "      <th>image_id</th>\n",
       "      <th>patient_id</th>\n",
       "      <th>macrophage_count</th>\n",
       "      <th>neutrophil_count</th>\n",
       "      <th>fibroblast_count</th>\n",
       "      <th>lymphocyte_count</th>\n",
       "      <th>plasma_count</th>\n",
       "      <th>endothelial_count</th>\n",
       "      <th>cancer_count</th>\n",
       "      <th>other_count</th>\n",
       "      <th>hospital</th>\n",
       "      <th>dataset</th>\n",
       "      <th>model</th>\n",
       "      <th>url</th>\n",
       "    </tr>\n",
       "  </thead>\n",
       "  <tbody>\n",
       "    <tr>\n",
       "      <th>0</th>\n",
       "      <td>354025</td>\n",
       "      <td>pat_3219915</td>\n",
       "      <td>2817</td>\n",
       "      <td>1889</td>\n",
       "      <td>34457</td>\n",
       "      <td>143166</td>\n",
       "      <td>4994</td>\n",
       "      <td>573</td>\n",
       "      <td>1422</td>\n",
       "      <td>1951</td>\n",
       "      <td>hospital_C</td>\n",
       "      <td>test_A</td>\n",
       "      <td>model_A</td>\n",
       "      <td>https://www.google.com/search?q=dirbcw</td>\n",
       "    </tr>\n",
       "    <tr>\n",
       "      <th>4</th>\n",
       "      <td>967278</td>\n",
       "      <td>pat_2541130</td>\n",
       "      <td>170</td>\n",
       "      <td>2349</td>\n",
       "      <td>9505</td>\n",
       "      <td>61313</td>\n",
       "      <td>1302</td>\n",
       "      <td>6798</td>\n",
       "      <td>3674</td>\n",
       "      <td>2426</td>\n",
       "      <td>hospital_A</td>\n",
       "      <td>test_A</td>\n",
       "      <td>model_A</td>\n",
       "      <td>https://www.google.com/search?q=djllkz</td>\n",
       "    </tr>\n",
       "    <tr>\n",
       "      <th>5</th>\n",
       "      <td>901281</td>\n",
       "      <td>pat_3507590</td>\n",
       "      <td>5575</td>\n",
       "      <td>3124</td>\n",
       "      <td>3156</td>\n",
       "      <td>11317</td>\n",
       "      <td>1141</td>\n",
       "      <td>16516</td>\n",
       "      <td>16914</td>\n",
       "      <td>4058</td>\n",
       "      <td>hospital_C</td>\n",
       "      <td>test_A</td>\n",
       "      <td>model_A</td>\n",
       "      <td>https://www.google.com/search?q=oqxwta</td>\n",
       "    </tr>\n",
       "    <tr>\n",
       "      <th>10</th>\n",
       "      <td>224847</td>\n",
       "      <td>pat_4360935</td>\n",
       "      <td>7274</td>\n",
       "      <td>205</td>\n",
       "      <td>20164</td>\n",
       "      <td>263119</td>\n",
       "      <td>603</td>\n",
       "      <td>1611</td>\n",
       "      <td>6182</td>\n",
       "      <td>7357</td>\n",
       "      <td>hospital_C</td>\n",
       "      <td>test_A</td>\n",
       "      <td>model_A</td>\n",
       "      <td>https://www.google.com/search?q=xtgtnj</td>\n",
       "    </tr>\n",
       "    <tr>\n",
       "      <th>11</th>\n",
       "      <td>339380</td>\n",
       "      <td>pat_6031561</td>\n",
       "      <td>926</td>\n",
       "      <td>2369</td>\n",
       "      <td>20921</td>\n",
       "      <td>103549</td>\n",
       "      <td>1341</td>\n",
       "      <td>6369</td>\n",
       "      <td>8202</td>\n",
       "      <td>14404</td>\n",
       "      <td>hospital_B</td>\n",
       "      <td>test_A</td>\n",
       "      <td>model_A</td>\n",
       "      <td>https://www.google.com/search?q=jcisqt</td>\n",
       "    </tr>\n",
       "  </tbody>\n",
       "</table>\n",
       "</div>"
      ],
      "text/plain": [
       "    image_id   patient_id  macrophage_count  neutrophil_count  \\\n",
       "0     354025  pat_3219915              2817              1889   \n",
       "4     967278  pat_2541130               170              2349   \n",
       "5     901281  pat_3507590              5575              3124   \n",
       "10    224847  pat_4360935              7274               205   \n",
       "11    339380  pat_6031561               926              2369   \n",
       "\n",
       "    fibroblast_count  lymphocyte_count  plasma_count  endothelial_count  \\\n",
       "0              34457            143166          4994                573   \n",
       "4               9505             61313          1302               6798   \n",
       "5               3156             11317          1141              16516   \n",
       "10             20164            263119           603               1611   \n",
       "11             20921            103549          1341               6369   \n",
       "\n",
       "    cancer_count  other_count    hospital dataset    model  \\\n",
       "0           1422         1951  hospital_C  test_A  model_A   \n",
       "4           3674         2426  hospital_A  test_A  model_A   \n",
       "5          16914         4058  hospital_C  test_A  model_A   \n",
       "10          6182         7357  hospital_C  test_A  model_A   \n",
       "11          8202        14404  hospital_B  test_A  model_A   \n",
       "\n",
       "                                       url  \n",
       "0   https://www.google.com/search?q=dirbcw  \n",
       "4   https://www.google.com/search?q=djllkz  \n",
       "5   https://www.google.com/search?q=oqxwta  \n",
       "10  https://www.google.com/search?q=xtgtnj  \n",
       "11  https://www.google.com/search?q=jcisqt  "
      ]
     },
     "execution_count": 5,
     "metadata": {},
     "output_type": "execute_result"
    }
   ],
   "source": [
    "# processing data\n",
    "cell_counts_modelA_testA = cell_counts_df[(cell_counts_df.model == 'model_A') & \n",
    "                                          (cell_counts_df.dataset == 'test_A')\n",
    "                                         ]\n",
    "cell_counts_modelA_testA.head()"
   ]
  },
  {
   "cell_type": "markdown",
   "id": "aeaf3f40",
   "metadata": {},
   "source": [
    "We may be interested in distribution of different types of cells in different images. For example, let's focus on \"lymphocyte_count\" and plot histogram over different images:"
   ]
  },
  {
   "cell_type": "code",
   "execution_count": 6,
   "id": "20802573",
   "metadata": {},
   "outputs": [
    {
     "data": {
      "image/png": "[encoded data removed]",
      "text/plain": [
       "<Figure size 640x480 with 1 Axes>"
      ]
     },
     "metadata": {},
     "output_type": "display_data"
    }
   ],
   "source": [
    "# plotting histogram\n",
    "y = cell_counts_modelA_testA[\"lymphocyte_count\"]\n",
    "plt.hist(y)\n",
    "plt.xlabel(\"Lymphocite count\")\n",
    "plt.ylabel(\"Frequenccy\")\n",
    "# helps make the layout nicer:\n",
    "plt.tight_layout()\n"
   ]
  },
  {
   "cell_type": "markdown",
   "id": "67783140",
   "metadata": {},
   "source": [
    "You can plot histograms for other cell types. You can investigate cell_counts_modelA_testA dataframe to see what are all cell types available. Check that all ove these exist: \n",
    "['macrophage_count', 'neutrophil_count', 'fibroblast_count', 'lymphocyte_count', 'plasma_count', 'endothelial_count', 'cancer_count', 'other_count']\n",
    "\n",
    "Let's plot histogram for each of those. You can use plt.subplots() to generate multiple panels within one figure. E.g."
   ]
  },
  {
   "cell_type": "code",
   "execution_count": 7,
   "id": "b8bad4dc",
   "metadata": {},
   "outputs": [
    {
     "data": {
      "image/png": "[encoded data removed]",
      "text/plain": [
       "<Figure size 640x480 with 8 Axes>"
      ]
     },
     "metadata": {},
     "output_type": "display_data"
    }
   ],
   "source": [
    "fig, axes = plt.subplots(2, 4)\n",
    "# plotsame lymphocyte histogram in the first panel\n",
    "axes[0, 0].hist(y)\n",
    "\n",
    "# make the layout nicer\n",
    "fig.tight_layout()"
   ]
  },
  {
   "cell_type": "markdown",
   "id": "bf08b27f",
   "metadata": {},
   "source": [
    "Plot histograms for all cell types. You can use the approach from the above cell and fill in the rest of the panels."
   ]
  },
  {
   "cell_type": "code",
   "execution_count": 8,
   "id": "94180348",
   "metadata": {},
   "outputs": [],
   "source": [
    "# fig, axes = plt.subplots(...)\n",
    "...\n",
    "\n",
    "# make the layout nicer\n",
    "fig.tight_layout()"
   ]
  },
  {
   "cell_type": "markdown",
   "id": "27b13557",
   "metadata": {},
   "source": [
    "A different way to visualize this data is with a boxplot. You can use matplotlib (or seaborn) to plot the boxplot of \"lymphocyte_count\""
   ]
  },
  {
   "cell_type": "code",
   "execution_count": 9,
   "id": "d2c2998f",
   "metadata": {},
   "outputs": [
    {
     "data": {
      "image/png": "[encoded data removed]",
      "text/plain": [
       "<Figure size 640x480 with 1 Axes>"
      ]
     },
     "metadata": {},
     "output_type": "display_data"
    }
   ],
   "source": [
    "# plotting boxplot\n",
    "# with seaborn: sns.boxplot(data=cell_counts_modelA_testA, y=\"lymphocyte_count\");\n",
    "\n",
    "# plotting boxplot with matplotlib\n",
    "y = cell_counts_modelA_testA[\"lymphocyte_count\"]\n",
    "plt.boxplot(y)\n",
    "plt.ylabel(\"Lymphocyte count\")\n",
    "plt.tight_layout()\n"
   ]
  },
  {
   "cell_type": "markdown",
   "id": "fed32722",
   "metadata": {},
   "source": [
    "Seaborn has other types of visualization that is appropriate here, try them out: swarmplot, stripplot, violinplot"
   ]
  },
  {
   "cell_type": "markdown",
   "id": "2640b842",
   "metadata": {},
   "source": [
    "We can also plot multiple boxplot on the same figure. Here we plot lymphocyte and macrophage count box plots."
   ]
  },
  {
   "cell_type": "code",
   "execution_count": 10,
   "id": "532f5349",
   "metadata": {},
   "outputs": [
    {
     "data": {
      "image/png": "[encoded data removed]",
      "text/plain": [
       "<Figure size 640x480 with 1 Axes>"
      ]
     },
     "metadata": {},
     "output_type": "display_data"
    }
   ],
   "source": [
    "# select appropriate columns\n",
    "y = cell_counts_modelA_testA[[\"lymphocyte_count\", \"macrophage_count\"]]\n",
    "\n",
    "# plotting boxplot with matplotlib\n",
    "plt.boxplot(y)\n",
    "plt.xticks(ticks=[1,2], labels=[\"lymphocyte\", \"macrophage\"])\n",
    "plt.ylabel(\"Cell count\")\n",
    "plt.xlabel(\"Cell type\")\n",
    "plt.tight_layout()"
   ]
  },
  {
   "cell_type": "markdown",
   "id": "d8ea071f",
   "metadata": {},
   "source": [
    "Now plot all cell types ('lymphocyte_count', 'neutrophil_count', etc) on same boxplot. You can investigate cell_counts_modelA_testA dataframe to see what are all cell types available. Check that all ove these exist and plot them all on the same boxplot: \n",
    "['macrophage_count', 'neutrophil_count', 'fibroblast_count', 'lymphocyte_count', 'plasma_count', 'endothelial_count', 'cancer_count', 'other_count']\n"
   ]
  },
  {
   "cell_type": "code",
   "execution_count": 11,
   "id": "436af21c",
   "metadata": {},
   "outputs": [],
   "source": [
    "# plotting boxplots with matplotlib\n"
   ]
  },
  {
   "cell_type": "markdown",
   "id": "ee57a826",
   "metadata": {},
   "source": [
    "You can use 'hue' parameter to e.g. color different hospitals in different color in boxplot or stripplot."
   ]
  },
  {
   "cell_type": "markdown",
   "id": "d0afeaa0",
   "metadata": {},
   "source": [
    "Another simple way to compare models is a simple scatterplot. Let's focus again on 'lymphocyte_count' and _dataset_ 'test_A'. x-axis will be 'lymphocyte_count' of 'model_A' and y-axis 'lymphocyte_count' of 'model_B'. Each point in the scatterplot corresponds to one _image_id_.\n"
   ]
  },
  {
   "cell_type": "code",
   "execution_count": 12,
   "id": "4481f368",
   "metadata": {},
   "outputs": [],
   "source": [
    "# plotting lymphocyte scatterplot\n"
   ]
  },
  {
   "cell_type": "markdown",
   "id": "10848dde",
   "metadata": {},
   "source": [
    "Now let's repeat previous step for all cell types and compare both models B and C with A. There should be 8x2 scatterplots."
   ]
  },
  {
   "cell_type": "code",
   "execution_count": 13,
   "id": "acaf9899",
   "metadata": {},
   "outputs": [],
   "source": [
    "# plotting all scatterplots\n"
   ]
  },
  {
   "cell_type": "code",
   "execution_count": null,
   "id": "a023a625",
   "metadata": {},
   "outputs": [],
   "source": []
  },
  {
   "cell_type": "code",
   "execution_count": null,
   "id": "60e9aae7",
   "metadata": {},
   "outputs": [],
   "source": []
  },
  {
   "cell_type": "code",
   "execution_count": null,
   "id": "556e339c",
   "metadata": {},
   "outputs": [],
   "source": []
  },
  {
   "cell_type": "code",
   "execution_count": null,
   "id": "9db65dcf",
   "metadata": {},
   "outputs": [],
   "source": []
  },
  {
   "cell_type": "code",
   "execution_count": null,
   "id": "2c8e856f",
   "metadata": {},
   "outputs": [],
   "source": []
  },
  {
   "cell_type": "code",
   "execution_count": null,
   "id": "31caa1e4",
   "metadata": {},
   "outputs": [],
   "source": []
  }
 ],
 "metadata": {
  "kernelspec": {
   "display_name": "Python 3 (ipykernel)",
   "language": "python",
   "name": "python3"
  },
  "language_info": {
   "codemirror_mode": {
    "name": "ipython",
    "version": 3
   },
   "file_extension": ".py",
   "mimetype": "text/x-python",
   "name": "python",
   "nbconvert_exporter": "python",
   "pygments_lexer": "ipython3",
   "version": "3.10.11"
  }
 },
 "nbformat": 4,
 "nbformat_minor": 5
}
