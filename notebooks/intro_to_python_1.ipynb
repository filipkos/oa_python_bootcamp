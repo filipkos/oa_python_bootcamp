{
 "cells": [
  {
   "cell_type": "markdown",
   "id": "e6486c2a",
   "metadata": {},
   "source": [
    "### Simplest function"
   ]
  },
  {
   "cell_type": "markdown",
   "id": "4be88b65",
   "metadata": {},
   "source": [
    "Define a simple function that takes a number and multiplies it by 10:"
   ]
  },
  {
   "cell_type": "code",
   "execution_count": 1,
   "id": "ba5ae703",
   "metadata": {},
   "outputs": [],
   "source": [
    "def multiply_by_ten(x):\n",
    "    return 10 * x"
   ]
  },
  {
   "cell_type": "markdown",
   "id": "ca4bbc28",
   "metadata": {},
   "source": [
    "We can now call this function whenever we need it. Test on some examples:"
   ]
  },
  {
   "cell_type": "code",
   "execution_count": 2,
   "id": "0d6963c8",
   "metadata": {},
   "outputs": [
    {
     "data": {
      "text/plain": [
       "250"
      ]
     },
     "execution_count": 2,
     "metadata": {},
     "output_type": "execute_result"
    }
   ],
   "source": [
    "multiply_by_ten(25)"
   ]
  },
  {
   "cell_type": "code",
   "execution_count": 3,
   "id": "3135748a",
   "metadata": {},
   "outputs": [
    {
     "data": {
      "text/plain": [
       "12.0"
      ]
     },
     "execution_count": 3,
     "metadata": {},
     "output_type": "execute_result"
    }
   ],
   "source": [
    "multiply_by_ten(1.2)"
   ]
  },
  {
   "cell_type": "markdown",
   "id": "51ca6070",
   "metadata": {},
   "source": [
    "This function works both with integer and real (float) numbers. Python is generally forgiving and will not complain as long as what you're trying to do makes sense."
   ]
  },
  {
   "cell_type": "markdown",
   "id": "0e4e6b00",
   "metadata": {},
   "source": [
    "It's a good practice to include more information about your function. For example, you can add what are the expected types of inputs and outputs (even if the function will work with something else):"
   ]
  },
  {
   "cell_type": "code",
   "execution_count": 4,
   "id": "67b4705b",
   "metadata": {},
   "outputs": [],
   "source": [
    "def multiply_by_ten(x: float) -> float:\n",
    "    return 10 * x"
   ]
  },
  {
   "cell_type": "markdown",
   "id": "26ee3b54",
   "metadata": {},
   "source": [
    "It's a very good idea to add a description of what your function does:"
   ]
  },
  {
   "cell_type": "code",
   "execution_count": 5,
   "id": "adfc68f1",
   "metadata": {},
   "outputs": [],
   "source": [
    "def multiply_by_ten(x: float = 10) -> float:\n",
    "    \"\"\"Multiplies an integer by 10.\n",
    "    \n",
    "    Arguments:\n",
    "    x: An integer to be multiplied by 10.\n",
    "    Returns: x multiplied by 10\n",
    "    \"\"\"\n",
    "    return 10 * x"
   ]
  },
  {
   "cell_type": "markdown",
   "id": "d66a0d31",
   "metadata": {},
   "source": [
    "The description is now available when you call help function:"
   ]
  },
  {
   "cell_type": "code",
   "execution_count": 6,
   "id": "47268779",
   "metadata": {},
   "outputs": [
    {
     "name": "stdout",
     "output_type": "stream",
     "text": [
      "Help on function multiply_by_ten in module __main__:\n",
      "\n",
      "multiply_by_ten(x: float = 10) -> float\n",
      "    Multiplies an integer by 10.\n",
      "    \n",
      "    Arguments:\n",
      "    x: An integer to be multiplied by 10.\n",
      "    Returns: x multiplied by 10\n",
      "\n"
     ]
    }
   ],
   "source": [
    "help(multiply_by_ten)"
   ]
  },
  {
   "cell_type": "markdown",
   "id": "ad19a274",
   "metadata": {},
   "source": [
    "### Numpy arrays"
   ]
  },
  {
   "cell_type": "code",
   "execution_count": 7,
   "id": "b0e65e7e",
   "metadata": {},
   "outputs": [],
   "source": [
    "# uncomment and install numpy package if not already installed\n",
    "# %pip install numpy"
   ]
  },
  {
   "cell_type": "code",
   "execution_count": 8,
   "id": "ca411bcb",
   "metadata": {},
   "outputs": [],
   "source": [
    "# import numpy package\n",
    "import numpy as np"
   ]
  },
  {
   "cell_type": "markdown",
   "id": "9ffac0be",
   "metadata": {},
   "source": [
    "Define some array for test:"
   ]
  },
  {
   "cell_type": "code",
   "execution_count": 9,
   "id": "82aa4e5e",
   "metadata": {},
   "outputs": [],
   "source": [
    "my_array = np.array([0, 1, 2])"
   ]
  },
  {
   "cell_type": "markdown",
   "id": "92bc5d37",
   "metadata": {},
   "source": [
    "Display the array:"
   ]
  },
  {
   "cell_type": "code",
   "execution_count": 10,
   "id": "68b85d87",
   "metadata": {},
   "outputs": [
    {
     "data": {
      "text/plain": [
       "array([0, 1, 2])"
      ]
     },
     "execution_count": 10,
     "metadata": {},
     "output_type": "execute_result"
    }
   ],
   "source": [
    "my_array"
   ]
  },
  {
   "cell_type": "markdown",
   "id": "702d3f41",
   "metadata": {},
   "source": [
    "The above function multiply_by_ten will already work on arrays:"
   ]
  },
  {
   "cell_type": "code",
   "execution_count": 11,
   "id": "ce02b03b",
   "metadata": {},
   "outputs": [
    {
     "data": {
      "text/plain": [
       "array([ 0, 10, 20])"
      ]
     },
     "execution_count": 11,
     "metadata": {},
     "output_type": "execute_result"
    }
   ],
   "source": [
    "multiply_by_ten(my_array)"
   ]
  },
  {
   "cell_type": "markdown",
   "id": "fa2a2f5b",
   "metadata": {},
   "source": [
    "Numpy will automatically evaluate the function elementwise over the whole array."
   ]
  },
  {
   "cell_type": "markdown",
   "id": "e7e524a6",
   "metadata": {},
   "source": [
    "Notice that this would not work for lists. Multiplication by 10 means something else for lists -- append the same list 10 times."
   ]
  },
  {
   "cell_type": "code",
   "execution_count": 12,
   "id": "03d5586a",
   "metadata": {},
   "outputs": [],
   "source": [
    "my_list = [0, 1, 2]"
   ]
  },
  {
   "cell_type": "code",
   "execution_count": 13,
   "id": "83d78e84",
   "metadata": {},
   "outputs": [
    {
     "data": {
      "text/plain": [
       "[0,\n",
       " 1,\n",
       " 2,\n",
       " 0,\n",
       " 1,\n",
       " 2,\n",
       " 0,\n",
       " 1,\n",
       " 2,\n",
       " 0,\n",
       " 1,\n",
       " 2,\n",
       " 0,\n",
       " 1,\n",
       " 2,\n",
       " 0,\n",
       " 1,\n",
       " 2,\n",
       " 0,\n",
       " 1,\n",
       " 2,\n",
       " 0,\n",
       " 1,\n",
       " 2,\n",
       " 0,\n",
       " 1,\n",
       " 2,\n",
       " 0,\n",
       " 1,\n",
       " 2]"
      ]
     },
     "execution_count": 13,
     "metadata": {},
     "output_type": "execute_result"
    }
   ],
   "source": [
    "multiply_by_ten(my_list)"
   ]
  },
  {
   "cell_type": "markdown",
   "id": "48c9fb84",
   "metadata": {},
   "source": [
    "Numpy has implementations of many standard mathematical functions. You can call any of them either on numbers or numpy array. For example:"
   ]
  },
  {
   "cell_type": "code",
   "execution_count": 14,
   "id": "6c2fccbe",
   "metadata": {},
   "outputs": [
    {
     "data": {
      "text/plain": [
       "2.5"
      ]
     },
     "execution_count": 14,
     "metadata": {},
     "output_type": "execute_result"
    }
   ],
   "source": [
    "# squaqre root\n",
    "np.sqrt(6.25)"
   ]
  },
  {
   "cell_type": "code",
   "execution_count": 15,
   "id": "86568ff3",
   "metadata": {},
   "outputs": [
    {
     "data": {
      "text/plain": [
       "array([ 0,  1, 16])"
      ]
     },
     "execution_count": 15,
     "metadata": {},
     "output_type": "execute_result"
    }
   ],
   "source": [
    "# 4th power\n",
    "np.power(my_array, 4)"
   ]
  },
  {
   "cell_type": "code",
   "execution_count": null,
   "id": "075f6283",
   "metadata": {},
   "outputs": [],
   "source": []
  }
 ],
 "metadata": {
  "kernelspec": {
   "display_name": "Python 3 (ipykernel)",
   "language": "python",
   "name": "python3"
  },
  "language_info": {
   "codemirror_mode": {
    "name": "ipython",
    "version": 3
   },
   "file_extension": ".py",
   "mimetype": "text/x-python",
   "name": "python",
   "nbconvert_exporter": "python",
   "pygments_lexer": "ipython3",
   "version": "3.10.11"
  }
 },
 "nbformat": 4,
 "nbformat_minor": 5
}
