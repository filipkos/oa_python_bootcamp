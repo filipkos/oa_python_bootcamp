{
 "cells": [
  {
   "cell_type": "markdown",
   "id": "a0d9c892",
   "metadata": {},
   "source": [
    "# Credit Card Dataset for Clustering"
   ]
  },
  {
   "cell_type": "markdown",
   "id": "9cf370fe",
   "metadata": {},
   "source": [
    "\n",
    "This dataset is from kaggle. You can check it out [here.](https://www.kaggle.com/datasets/arjunbhasin2013/ccdata?resource=download) You can also find many notebooks that users uploaded there investigating the dataset. They use various clustering models that are beyond the scope of our course. Here we will take pedestrian approach and investigate the dataset using only simple visualization tools."
   ]
  },
  {
   "cell_type": "markdown",
   "id": "d32877da",
   "metadata": {},
   "source": [
    "#### About Dataset\n",
    "This case requires to develop a customer segmentation to define marketing strategy. The\n",
    "sample Dataset summarizes the usage behavior of about 9000 active credit card holders during the last 6 months. The file is at a customer level with 18 behavioral variables.\n",
    "\n",
    "Following is the Data Dictionary for Credit Card dataset :-\n",
    "\n",
    "__CUST_ID__ : Identification of Credit Card holder (Categorical)\n",
    "\n",
    "__BALANCE__ : Balance amount left in their account to make purchases (\n",
    "\n",
    "__BALANCE_FREQUENCY__ : How frequently the Balance is updated, score between 0 and 1 (1 = frequently updated, 0 = not frequently updated)\n",
    "\n",
    "__PURCHASES__ : Amount of purchases made from account\n",
    "\n",
    "__ONEOFF_PURCHASES__ : Maximum purchase amount done in one-go\n",
    "\n",
    "__INSTALLMENTS_PURCHASES__ : Amount of purchase done in installment\n",
    "\n",
    "__CASH_ADVANCE__ : Cash in advance given by the user\n",
    "\n",
    "__PURCHASES_FREQUENCY__ : How frequently the Purchases are being made, score between 0 and 1 (1 = frequently purchased, 0 = not frequently purchased)\n",
    "\n",
    "__ONEOFFPURCHASESFREQUENCY__ : How frequently Purchases are happening in one-go (1 = frequently purchased, 0 = not frequently purchased)\n",
    "\n",
    "__PURCHASESINSTALLMENTSFREQUENCY__ : How frequently purchases in installments are being done (1 = frequently done, 0 = not frequently done)\n",
    "\n",
    "__CASHADVANCEFREQUENCY__ : How frequently the cash in advance being paid\n",
    "\n",
    "__CASHADVANCETRX__ : Number of Transactions made with \"Cash in Advanced\"\n",
    "\n",
    "__PURCHASES_TRX__ : Numbe of purchase transactions made\n",
    "\n",
    "__CREDIT_LIMIT__ : Limit of Credit Card for user\n",
    "\n",
    "__PAYMENTS__ : Amount of Payment done by user\n",
    "\n",
    "__MINIMUM_PAYMENTS__ : Minimum amount of payments made by user\n",
    "\n",
    "__PRCFULLPAYMENT__ : Percent of full payment paid by user\n",
    "\n",
    "__TENURE__ : Tenure of credit card service for user\n",
    "\n",
    "\n"
   ]
  },
  {
   "cell_type": "markdown",
   "id": "3ec2f5de",
   "metadata": {},
   "source": [
    "## 1 Setup and loading data"
   ]
  },
  {
   "cell_type": "code",
   "execution_count": null,
   "id": "15cb1647",
   "metadata": {},
   "outputs": [],
   "source": [
    "# import libraries\n",
    "import numpy as np\n",
    "import matplotlib.pyplot as plt\n",
    "import pandas as pd"
   ]
  },
  {
   "cell_type": "markdown",
   "id": "a154c484",
   "metadata": {},
   "source": [
    "Read the credit card data from file \"CC_GENERAL.csv\" and put it into variable credit_data that is of pandas Dataframe type. Use the first column (CUST_ID) as index."
   ]
  },
  {
   "cell_type": "code",
   "execution_count": null,
   "id": "fb20e289",
   "metadata": {},
   "outputs": [],
   "source": [
    "# reading data\n",
    "credit_data = ..."
   ]
  },
  {
   "cell_type": "markdown",
   "id": "c76edea1",
   "metadata": {},
   "source": [
    "## 2 Initial data exploration"
   ]
  },
  {
   "cell_type": "markdown",
   "id": "6b039971",
   "metadata": {},
   "source": [
    "Let's see what the dataframe looks like. We can use head method to display first few rows."
   ]
  },
  {
   "cell_type": "code",
   "execution_count": null,
   "id": "5bcb7a58",
   "metadata": {},
   "outputs": [],
   "source": [
    "# print first five rows\n",
    "..."
   ]
  },
  {
   "cell_type": "markdown",
   "id": "69bac218",
   "metadata": {},
   "source": [
    "How many columns is there in credit_data dataframe? Write the code that will print it below."
   ]
  },
  {
   "cell_type": "code",
   "execution_count": null,
   "id": "bdb883d1",
   "metadata": {},
   "outputs": [],
   "source": [
    "# printing number of columns\n",
    "print(...)"
   ]
  },
  {
   "cell_type": "markdown",
   "id": "d0e81b04",
   "metadata": {},
   "source": [
    "How many customers are there altogether in the dataset? Write the code that will print it below."
   ]
  },
  {
   "cell_type": "code",
   "execution_count": null,
   "id": "12c18509",
   "metadata": {},
   "outputs": [],
   "source": [
    "# printing number of columns\n",
    "number_of_customers = ...\n",
    "print(number_of_customers)"
   ]
  },
  {
   "cell_type": "markdown",
   "id": "28bfd817",
   "metadata": {},
   "source": [
    "Use describe method of the dataframe to get the basic information about credit_data:"
   ]
  },
  {
   "cell_type": "code",
   "execution_count": null,
   "id": "a9df7be9",
   "metadata": {},
   "outputs": [],
   "source": [
    "# calling describe method on credit_data\n",
    "..."
   ]
  },
  {
   "cell_type": "markdown",
   "id": "66aea377",
   "metadata": {},
   "source": [
    "## 3 First plots"
   ]
  },
  {
   "cell_type": "markdown",
   "id": "e341c07c",
   "metadata": {},
   "source": [
    "You may have noticed from above that some of the columns are quantities measuring amount of stuff (like BALANCE or PURCHASES), and can in principle be any positive number. Other columns (like BALANCE_FREQUENCY or PURCHASES_FREQUENCY) measure the degree of traffic and are constrained to a finite interval (between 0 and 1 here). We will want to distinguish between these two classes. Let's call the first class of columns extensive_columns and the second intensive_columns. We'll define following two lists that contain all the columns:"
   ]
  },
  {
   "cell_type": "code",
   "execution_count": null,
   "id": "8f4f1d47",
   "metadata": {},
   "outputs": [],
   "source": [
    "extensive_columns = ['BALANCE', 'PURCHASES', 'ONEOFF_PURCHASES',\n",
    "       'INSTALLMENTS_PURCHASES', 'CASH_ADVANCE', 'CASH_ADVANCE_TRX', 'PURCHASES_TRX',\n",
    "       'CREDIT_LIMIT', 'PAYMENTS', 'MINIMUM_PAYMENTS']\n",
    "intensive_columns = ['BALANCE_FREQUENCY', 'PURCHASES_FREQUENCY',\n",
    "       'ONEOFF_PURCHASES_FREQUENCY', 'PURCHASES_INSTALLMENTS_FREQUENCY',\n",
    "       'CASH_ADVANCE_FREQUENCY', 'PRC_FULL_PAYMENT', 'TENURE']"
   ]
  },
  {
   "cell_type": "markdown",
   "id": "ee564b10",
   "metadata": {},
   "source": [
    "We want to investigate the distribution of customers and as a first step we may want to look at a distribution of values in each column separately. Let's recall how to make a simple histogram using pyplot. Here we will plot a histogram of BALANCE column:"
   ]
  },
  {
   "cell_type": "code",
   "execution_count": null,
   "id": "47e30b4c",
   "metadata": {},
   "outputs": [],
   "source": [
    "# selecting data from BALANCE column in credit_data\n",
    "balances = credit_data[\"BALANCE\"]\n",
    "# let's create a figure using plt.subplots\n",
    "# here we will only have one subplot (one panel) but below we will want to have more\n",
    "fig, ax = plt.subplots(1, figsize=(6, 4))\n",
    "# plotting a histogram\n",
    "ax.hist(balances)\n",
    "# add a label to the x, y axis\n",
    "ax.set_xlabel(\"BALANCE\")\n",
    "ax.set_ylabel(\"Frequency\")\n",
    "# this will help make the figure look nicer\n",
    "fig.tight_layout()"
   ]
  },
  {
   "cell_type": "markdown",
   "id": "fcb7bce4",
   "metadata": {},
   "source": [
    "We want to make similar plots for all columns of credit_data. Let's do it separately for extensive and intensive_columns. There are 7 intensive columns, we'll make a figure with 7 panels in a column. We will use for loop to iterate over columns/panels."
   ]
  },
  {
   "cell_type": "code",
   "execution_count": null,
   "id": "f8ffb0e2",
   "metadata": {},
   "outputs": [],
   "source": [
    "# adjust figsize if needed\n",
    "fig, axes = plt.subplots(7, figsize=(5, 30))\n",
    "# notice that axes is now a numpy array of length 7, each element is one panel -- Axes type\n",
    "print(\"Type of axes variable: \", type(axes))\n",
    "print(\"Shape of axes array: \", axes.shape)\n",
    "print(\"Type of axes[0] variable: \", type(axes[0]))\n",
    "\n",
    "# zip function makes it possible to iterate over two lists simultaneously\n",
    "for col, ax in zip(intensive_columns, axes):\n",
    "    # selecting data from column col in credit_data\n",
    "    data = credit_data[col]\n",
    "    # ploting histogram of data\n",
    "    ax.hist(data)\n",
    "    # add a label to the x, y axis\n",
    "    ax.set_xlabel(col)\n",
    "    ax.set_ylabel(\"Frequency\")\n",
    "# this will help make the figure look nicer\n",
    "fig.tight_layout()"
   ]
  },
  {
   "cell_type": "markdown",
   "id": "9915e6bd",
   "metadata": {},
   "source": [
    "It may be nicer to organize the plots in two columns. Notice that plt.subplots() now generates two-dimensional array of panels, so if we want to iterate over it we first reshaped the array to be 1-d. Complete the code below."
   ]
  },
  {
   "cell_type": "code",
   "execution_count": null,
   "id": "3b1e41fc",
   "metadata": {},
   "outputs": [],
   "source": [
    "# adjust figsize if needed\n",
    "fig, axes = plt.subplots(4, 2, figsize=(8, 12))\n",
    "# notice that axes is now a 2d numpy array (matrix) of shape 4x2, each element is one panel -- Axes type\n",
    "print(\"Type of axes variable: \", type(axes))\n",
    "print(\"Shape of axes array: \", axes.shape)\n",
    "print(\"Type of axes[0, 0] variable: \", type(axes[0]))\n",
    "\n",
    "# zip function makes it possible to iterate over two lists simultaneously -- axes needs to be reshaped\n",
    "for col, ax in zip(intensive_columns, axes.reshape(-1)):\n",
    "    # selecting data from column col in credit_data\n",
    "    data = ...\n",
    "    # ploting histogram of data\n",
    "    ...\n",
    "    # add a label to the x, y axis\n",
    "    ...\n",
    "# this will help make the figure look nicer\n",
    "fig.tight_layout()"
   ]
  },
  {
   "cell_type": "markdown",
   "id": "4c602e4f",
   "metadata": {},
   "source": [
    "The last panel was left empty since we only had 7 columns to plot. That's fine. Now repeat the same process for extensive_columns. There are 10 elements in the list so you may make a figure with 5x2 panels. Complete the code below."
   ]
  },
  {
   "cell_type": "code",
   "execution_count": null,
   "id": "946f301f",
   "metadata": {},
   "outputs": [],
   "source": [
    "# adjust figsize if needed\n",
    "fig, axes = plt.subplots(5, 2, figsize=(8, 12))\n",
    "\n",
    "...\n",
    "...\n",
    "\n",
    "# this will help make the figure look nicer\n",
    "fig.tight_layout()"
   ]
  },
  {
   "cell_type": "markdown",
   "id": "1209484f",
   "metadata": {},
   "source": [
    "## 4 Log plots"
   ]
  },
  {
   "cell_type": "markdown",
   "id": "14c6bf12",
   "metadata": {},
   "source": [
    "You may have noticed that the histograms for extensive_columns look funny, most of them having most of the customers in the lowest bin. We say that the distributions have long tail. To get more informative histograms we can take log of each of the columns and plot histogram of that. Let's create a new dataframe that will contain log values of all columns in extensive_columns. We will keep columns in intensive_columns unchanged. Let's call the new dataframe log_credit_data."
   ]
  },
  {
   "cell_type": "code",
   "execution_count": null,
   "id": "3b38f32e",
   "metadata": {},
   "outputs": [],
   "source": [
    "# copy credit_data; otherwise credit_data itself will be modified -- we don't want that\n",
    "log_credit_data = credit_data.copy()\n",
    "# now take the log of each column of log_credit_data in extensive_columns\n",
    "# use np.log\n",
    "# you can use for loop, or direct assignment\n",
    "..."
   ]
  },
  {
   "cell_type": "markdown",
   "id": "f9e45453",
   "metadata": {},
   "source": [
    "There is a slight problem with this operation. Let's check the range of PAYMENTS in log_credit_data."
   ]
  },
  {
   "cell_type": "code",
   "execution_count": null,
   "id": "b3bbfc17",
   "metadata": {},
   "outputs": [],
   "source": [
    "log_credit_data[\"PAYMENTS\"].min(), log_credit_data[\"PAYMENTS\"].max()"
   ]
  },
  {
   "cell_type": "markdown",
   "id": "9b638dbe",
   "metadata": {},
   "source": [
    "Some of the payments were 0 so taking log(0) produced -inf. These infinities will cause us problems in visualization and analysis. Let's just replace all negative numbers with 0. We can use function np.clip for that."
   ]
  },
  {
   "cell_type": "code",
   "execution_count": null,
   "id": "04b90862",
   "metadata": {},
   "outputs": [],
   "source": [
    "# np.clip will limit the values to inbetween 0 and 1000 in this case\n",
    "# 1000 is arbitrary chosen as much larger than anything we have\n",
    "log_credit_data[extensive_columns] = np.clip(log_credit_data[extensive_columns], 0, 1000)"
   ]
  },
  {
   "cell_type": "markdown",
   "id": "70f98dec",
   "metadata": {},
   "source": [
    "Now let's plot histogram of all extensive_columns of log_credit_data:"
   ]
  },
  {
   "cell_type": "code",
   "execution_count": null,
   "id": "048b12c3",
   "metadata": {},
   "outputs": [],
   "source": [
    "# adjust figsize if needed\n",
    "fig, axes = plt.subplots(5, 2, figsize=(8, 12))\n",
    "\n",
    "# make the plots from log_credit_data\n",
    "...\n",
    "\n",
    "# this will help make the figure look nicer\n",
    "fig.tight_layout()"
   ]
  },
  {
   "cell_type": "markdown",
   "id": "6fc7e114",
   "metadata": {},
   "source": [
    "These should be much more informative. Notice how many of the distributions are bimodal. For example, there seem to be a lot of customers who don't make installment purchases at all. There seem to be a lot who don't use cash advance at all.\n",
    "\n",
    "Compute how many people don't use installment purchases. Let's assume if log(installment_purchases) is less than 1, that means the customer is not using it. So, count how many rows in log_credit_data have INSTALLMENTS_PURCHASES less than 1. Do the same for CASH_ADVANCE."
   ]
  },
  {
   "cell_type": "code",
   "execution_count": null,
   "id": "fedd08bd",
   "metadata": {},
   "outputs": [],
   "source": [
    "no_installment_purchases = ...\n",
    "no_cash_advance = ...\n",
    "\n",
    "print(str(no_installment_purchases) + \" customers don't use installment purchases, that is \" \n",
    "      + str(...) + \"%\")\n",
    "\n",
    "print(str(no_cash_advance) + \" customers don't use cash advance, that is \" \n",
    "      + str(...) + \"%\")"
   ]
  },
  {
   "cell_type": "markdown",
   "id": "4fa74a87",
   "metadata": {},
   "source": [
    "## 5 Scatter plots"
   ]
  },
  {
   "cell_type": "markdown",
   "id": "a51cc4ba",
   "metadata": {},
   "source": [
    "We may wonder if those are the same users. Let's find out how many don't use either of the two."
   ]
  },
  {
   "cell_type": "code",
   "execution_count": null,
   "id": "6254f09d",
   "metadata": {},
   "outputs": [],
   "source": [
    "no_installment_no_advance = ...\n",
    "print(str(no_installment_no_advance) + \" customers use neither installment purchases nor cash advance, that is \" \n",
    "      + str() + \"%\")"
   ]
  },
  {
   "cell_type": "markdown",
   "id": "af741833",
   "metadata": {},
   "source": [
    "So there is some overlap but not that great. How can we visualize this? A simple plot might be a scatter plot with log(CASH_ADVANCE) on x axis and log(INSTALLMENTS_PURCHASES) on y axis. Let's plot that below."
   ]
  },
  {
   "cell_type": "code",
   "execution_count": null,
   "id": "03dcbef4",
   "metadata": {},
   "outputs": [],
   "source": [
    "fig, ax = plt.subplots()\n",
    "# scatter plot\n",
    "...\n",
    "# label x, y axes\n",
    "ax.set_xlabel(\"Log cash advance\")\n",
    "ax.set_ylabel(\"Log installments purchases\")\n",
    "# help with layout\n",
    "fig.tight_layout()"
   ]
  },
  {
   "cell_type": "markdown",
   "id": "e2259d9d",
   "metadata": {},
   "source": [
    "You should see clearly three clusters in the above plot (or four if we consider point (0, 0) as its own cluster). Let's plot two more scatter plots: \n",
    "1. Log one_off purchases vs Log cash advance  and\n",
    "2. Log one_off purchases vs Log installments purchases"
   ]
  },
  {
   "cell_type": "code",
   "execution_count": null,
   "id": "204dda11",
   "metadata": {},
   "outputs": [],
   "source": [
    "# figure with two panels\n",
    "fig, axes = plt.subplots(1, 2, figsize=(8, 4))\n",
    "# plotting first plot\n",
    "...\n",
    "# label the x,y axes\n",
    "axes[0].set_xlabel(\"Log cash advance\")\n",
    "axes[0].set_ylabel(\"Log one-off purchases\")\n",
    "\n",
    "# plotting second plot\n",
    "...\n",
    "# label the x,y axes\n",
    "axes[1].set_xlabel(\"Log installments purchases\")\n",
    "axes[1].set_ylabel(\"Log one-off purchases\")\n",
    "# help with layout\n",
    "fig.tight_layout()"
   ]
  },
  {
   "cell_type": "markdown",
   "id": "f64ce8bd",
   "metadata": {},
   "source": [
    "These should look similar to the plot we saw above. "
   ]
  },
  {
   "cell_type": "markdown",
   "id": "c6867c9e",
   "metadata": {},
   "source": [
    "## 6 Classifying customers"
   ]
  },
  {
   "cell_type": "markdown",
   "id": "8b263483",
   "metadata": {},
   "source": [
    "Let's add a new column to log_credit_data dataframe. We will call it \"INSTALLMENTS_USER\" and it should be True if log installments purchases is greater than 1 and False otherwise."
   ]
  },
  {
   "cell_type": "code",
   "execution_count": null,
   "id": "a3d0cd4a",
   "metadata": {},
   "outputs": [],
   "source": [
    "# adding column INSTALLMENTS_USER to log_credit_data:\n",
    "log_credit_data[\"INSTALLMENTS_USER\"] = ..."
   ]
  },
  {
   "cell_type": "markdown",
   "id": "1e1275b1",
   "metadata": {},
   "source": [
    "Add two more columns: \"CASH_ADVANCE_USER\" and \"ONEOFF_USER\" to log_credit_data in the same way:"
   ]
  },
  {
   "cell_type": "code",
   "execution_count": null,
   "id": "80a0b36c",
   "metadata": {},
   "outputs": [],
   "source": [
    "# adding column CASH_ADVANCE_USER to log_credit_data:\n",
    "log_credit_data[\"CASH_ADVANCE_USER\"] = ...\n",
    "# adding column INSTALLMENTS_USER to log_credit_data:\n",
    "log_credit_data[\"ONEOFF_USER\"] = ..."
   ]
  },
  {
   "cell_type": "markdown",
   "id": "148abb09",
   "metadata": {},
   "source": [
    "How many customers are cash-advance __only__ users? That is, how many entries in log_credit data have CASH_ADVANCE_USER equal to True and ONEOFF_USER and INSTALLMENTS_USER equal to False? How many customers are one-off users only and how many are installments users only? What percentage of all customers is that?"
   ]
  },
  {
   "cell_type": "code",
   "execution_count": null,
   "id": "2aea0ba6",
   "metadata": {},
   "outputs": [],
   "source": [
    "# computing numbers of customers in each group\n",
    "n_cash_advance_only = ...\n",
    "n_oneoff_only = ...\n",
    "n_installments_only = ...\n",
    "\n",
    "print(str(n_cash_advance_only) + \" are cash advance only. That is \" + str(...) + \"% of all customers\")\n",
    "print(str(n_oneoff_only) + \" are one-off only. That is \" + str(...) + \"% of all customers\")\n",
    "print(str(n_installments_only) + \" are isntallments only. That is \" + str(...) + \"% of all customers\")"
   ]
  },
  {
   "cell_type": "markdown",
   "id": "1e03eb03",
   "metadata": {},
   "source": [
    "The groups have different sizes but similar order of magnitude. What are the total payments for each group?"
   ]
  },
  {
   "cell_type": "code",
   "execution_count": null,
   "id": "87bfaabb",
   "metadata": {},
   "outputs": [],
   "source": [
    "# computing total PAYMENTS\n",
    "total_payments_cash_advance_only = ...\n",
    "total_payments_oneoff_only = ...\n",
    "total_payments_installments_only = ...\n",
    "\n",
    "print(\"Total payments of the cash advance only group: \" + str(total_payments_cash_advance_only))\n",
    "print(\"Total payments of the one-off only group: \" + str(total_payments_oneoff_only))\n",
    "print(\"Total payments of the isntallments only group: \" + str(total_payments_installments_only))"
   ]
  },
  {
   "cell_type": "markdown",
   "id": "f8956532",
   "metadata": {},
   "source": [
    "All groups made significant payments. Which one did pay the most?"
   ]
  },
  {
   "cell_type": "markdown",
   "id": "3d361060",
   "metadata": {},
   "source": [
    "## 7 Box plots"
   ]
  },
  {
   "cell_type": "markdown",
   "id": "846898b4",
   "metadata": {},
   "source": [
    "Boxplot is another useful type of visualization. For example, let's make a boxplot of BALANCE column across entire dataset."
   ]
  },
  {
   "cell_type": "code",
   "execution_count": null,
   "id": "41a95b28",
   "metadata": {},
   "outputs": [],
   "source": [
    "fig, ax = plt.subplots()\n",
    "ax.boxplot(log_credit_data[\"BALANCE\"])\n",
    "fig.tight_layout()"
   ]
  },
  {
   "cell_type": "markdown",
   "id": "439ca4fe",
   "metadata": {},
   "source": [
    "The orange line is the median value of BALANCE in the dataset, the bottom of the box is at first quartile, the top is at the third quartile. See the specifics in the documentation:"
   ]
  },
  {
   "cell_type": "code",
   "execution_count": null,
   "id": "db728cfa",
   "metadata": {},
   "outputs": [],
   "source": [
    "help(plt.boxplot)"
   ]
  },
  {
   "cell_type": "markdown",
   "id": "f1fd5aef",
   "metadata": {},
   "source": [
    "We can plot multiple boxplots side by side by passing a list of arrays to boxplot(). For example, let's plot separately BALANCE boxplot for customers with tenure less than 12 and 12 or more:"
   ]
  },
  {
   "cell_type": "code",
   "execution_count": null,
   "id": "5537e0fd",
   "metadata": {},
   "outputs": [],
   "source": [
    "# make a list with two elements\n",
    "# first element is array of balances of customers with tenure less than 12\n",
    "# second element is array of balances of customers with tenure equal or greater than 12\n",
    "balance_list = [log_credit_data[log_credit_data[\"TENURE\"] < 12][\"BALANCE\"],\n",
    "               log_credit_data[log_credit_data[\"TENURE\"] >= 12][\"BALANCE\"]]\n",
    "\n",
    "fig, ax = plt.subplots()\n",
    "# notice how you can style the boxplot\n",
    "ax.boxplot(balance_list, patch_artist=True, boxprops={'color':\"k\", 'facecolor':\"green\"}, medianprops={\"color\":'k'})\n",
    "# y axis is log BALANCE\n",
    "ax.set_ylabel(\"LOG BALANCE\")\n",
    "# x axis is TENURE\n",
    "ax.set_xlabel(\"TENURE\")\n",
    "# let's label the ticks\n",
    "ax.set_xticks([1, 2], [\"< 12\", \">=12\"])\n",
    "fig.tight_layout()"
   ]
  },
  {
   "cell_type": "markdown",
   "id": "c082f9a7",
   "metadata": {},
   "source": [
    "Let's make a plot with three boxplots of \"BALANCE\", one for each of cash advance only users, installments only and one-off only."
   ]
  },
  {
   "cell_type": "code",
   "execution_count": null,
   "id": "e1eff303",
   "metadata": {},
   "outputs": [],
   "source": [
    "# filtering the dataframe\n",
    "balance_list = []\n",
    "...\n",
    "# make the plot\n",
    "fig, ax = plt.subplots()\n",
    "...\n",
    "# y axis is log BALANCE\n",
    "ax.set_ylabel(\"LOG BALANCE\")\n",
    "# x axis is Customer type\n",
    "ax.set_xlabel(\"Customer type\")\n",
    "# let's label the ticks\n",
    "...\n",
    "fig.tight_layout()"
   ]
  },
  {
   "cell_type": "markdown",
   "id": "4d124afc",
   "metadata": {},
   "source": [
    "Which type of customers has the greatest median balance? Print the median of each of the three customer types:"
   ]
  },
  {
   "cell_type": "code",
   "execution_count": null,
   "id": "b0cead91",
   "metadata": {},
   "outputs": [],
   "source": [
    "print(\"Median of cash advance customer type: \" + str(...))\n",
    "print(\"Median of one-off customer type: \" + str(...))\n",
    "print(\"Median of installments customer type : \" + str(...))"
   ]
  },
  {
   "cell_type": "markdown",
   "id": "c52aea03",
   "metadata": {},
   "source": [
    "Make a similar type of boxplot for each column in intensive_columns list. Do the plots make sense? Which customer type has highest median purchases frequency?"
   ]
  },
  {
   "cell_type": "code",
   "execution_count": null,
   "id": "1a548fc6",
   "metadata": {},
   "outputs": [],
   "source": [
    "# we will have 4x2 panels\n",
    "fig, axes = plt.subplots(4, 2, figsize=(8, 12), sharey=True)\n",
    "# loop over columns\n",
    "for col, ax in zip(intensive_columns, axes.reshape(-1)):\n",
    "    # make a list of data\n",
    "    ...\n",
    "    # let's do horizontal plots -- use vert=False parameter in boxplot\n",
    "    ...\n",
    "    # the x axis is now whatever col is\n",
    "    ...\n",
    "    # y axis is customer type\n",
    "    ...\n",
    "fig.tight_layout()"
   ]
  },
  {
   "cell_type": "code",
   "execution_count": null,
   "id": "1b9266f5",
   "metadata": {},
   "outputs": [],
   "source": []
  },
  {
   "cell_type": "code",
   "execution_count": null,
   "id": "1645d7ca",
   "metadata": {},
   "outputs": [],
   "source": []
  },
  {
   "cell_type": "code",
   "execution_count": null,
   "id": "b3bae5da",
   "metadata": {},
   "outputs": [],
   "source": []
  },
  {
   "cell_type": "code",
   "execution_count": null,
   "id": "43805349",
   "metadata": {},
   "outputs": [],
   "source": []
  },
  {
   "cell_type": "code",
   "execution_count": null,
   "id": "6009337e",
   "metadata": {},
   "outputs": [],
   "source": []
  },
  {
   "cell_type": "code",
   "execution_count": null,
   "id": "dad91b65",
   "metadata": {},
   "outputs": [],
   "source": []
  },
  {
   "cell_type": "code",
   "execution_count": null,
   "id": "3f7c89ce",
   "metadata": {},
   "outputs": [],
   "source": []
  },
  {
   "cell_type": "code",
   "execution_count": null,
   "id": "62f9fbb7",
   "metadata": {},
   "outputs": [],
   "source": []
  },
  {
   "cell_type": "code",
   "execution_count": null,
   "id": "1ce970c8",
   "metadata": {},
   "outputs": [],
   "source": []
  },
  {
   "cell_type": "code",
   "execution_count": null,
   "id": "e46b6cf2",
   "metadata": {},
   "outputs": [],
   "source": []
  },
  {
   "cell_type": "code",
   "execution_count": null,
   "id": "50e2e0e7",
   "metadata": {},
   "outputs": [],
   "source": []
  },
  {
   "cell_type": "code",
   "execution_count": null,
   "id": "6fa0ab52",
   "metadata": {},
   "outputs": [],
   "source": []
  },
  {
   "cell_type": "code",
   "execution_count": null,
   "id": "e539cd33",
   "metadata": {},
   "outputs": [],
   "source": []
  },
  {
   "cell_type": "code",
   "execution_count": null,
   "id": "dea66e2f",
   "metadata": {},
   "outputs": [],
   "source": []
  },
  {
   "cell_type": "code",
   "execution_count": null,
   "id": "7fae9ed9",
   "metadata": {},
   "outputs": [],
   "source": []
  },
  {
   "cell_type": "code",
   "execution_count": null,
   "id": "e9dc9fba",
   "metadata": {},
   "outputs": [],
   "source": []
  },
  {
   "cell_type": "code",
   "execution_count": null,
   "id": "3797c71c",
   "metadata": {},
   "outputs": [],
   "source": []
  }
 ],
 "metadata": {
  "kernelspec": {
   "display_name": "Python 3 (ipykernel)",
   "language": "python",
   "name": "python3"
  },
  "language_info": {
   "codemirror_mode": {
    "name": "ipython",
    "version": 3
   },
   "file_extension": ".py",
   "mimetype": "text/x-python",
   "name": "python",
   "nbconvert_exporter": "python",
   "pygments_lexer": "ipython3",
   "version": "3.10.11"
  }
 },
 "nbformat": 4,
 "nbformat_minor": 5
}
